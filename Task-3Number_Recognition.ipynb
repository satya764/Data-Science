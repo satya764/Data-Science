{
 "cells": [
  {
   "cell_type": "markdown",
   "metadata": {
    "id": "q2FzcgUd0m2N"
   },
   "source": [
    "**Load and preprocess the MNIST dataset**"
   ]
  },
  {
   "cell_type": "code",
   "execution_count": 1,
   "metadata": {
    "colab": {
     "base_uri": "https://localhost:8080/"
    },
    "id": "5vIFMtCEzPdC",
    "outputId": "fc880b3c-b042-430d-aca5-0884fa4c8d4c"
   },
   "outputs": [
    {
     "name": "stdout",
     "output_type": "stream",
     "text": [
      "Downloading data from https://storage.googleapis.com/tensorflow/tf-keras-datasets/mnist.npz\n",
      "11490434/11490434 [==============================] - 1s 0us/step\n"
     ]
    }
   ],
   "source": [
    "import numpy as np\n",
    "from keras.datasets import mnist\n",
    "from keras.utils import np_utils\n",
    "\n",
    "# Load the MNIST dataset\n",
    "(X_train, y_train), (X_test, y_test) = mnist.load_data()\n",
    "\n",
    "# Flatten the input images from 28x28 pixels to 784-dimensional vectors and normalize\n",
    "def preprocess_data(X):\n",
    "    X = X.reshape(X.shape[0], 784).astype('float32') / 255\n",
    "    return X\n",
    "\n",
    "X_train = preprocess_data(X_train)\n",
    "X_test = preprocess_data(X_test)\n",
    "\n",
    "# Convert the target labels to categorical one-hot encoding\n",
    "def one_hot_encode_labels(y):\n",
    "    return np_utils.to_categorical(y, 10)\n",
    "\n",
    "y_train = one_hot_encode_labels(y_train)\n",
    "y_test = one_hot_encode_labels(y_test)\n"
   ]
  },
  {
   "cell_type": "markdown",
   "metadata": {
    "id": "nrNaRGPs0n6u"
   },
   "source": [
    "**Build the neural network model**"
   ]
  },
  {
   "cell_type": "code",
   "execution_count": 2,
   "metadata": {
    "id": "ePh7YSTBzX1J"
   },
   "outputs": [],
   "source": [
    "from keras.models import Sequential\n",
    "from keras.layers import Dense, Dropout\n",
    "\n",
    "def create_mnist_model():\n",
    "    model = Sequential()\n",
    "    model.add(Dense(512, input_shape=(784,), activation='relu'))\n",
    "    model.add(Dropout(0.2))\n",
    "    model.add(Dense(512, activation='relu'))\n",
    "    model.add(Dropout(0.2))\n",
    "    model.add(Dense(10, activation='softmax'))\n",
    "    return model\n",
    "\n",
    "def compile_model(model):\n",
    "    model.compile(loss='categorical_crossentropy', optimizer='adam', metrics=['accuracy'])\n",
    "\n",
    "# Create the model\n",
    "model = create_mnist_model()\n",
    "\n",
    "# Compile the model\n",
    "compile_model(model)\n"
   ]
  },
  {
   "cell_type": "markdown",
   "metadata": {
    "id": "5TMlevx40ox9"
   },
   "source": [
    "**Train the model**"
   ]
  },
  {
   "cell_type": "code",
   "execution_count": 3,
   "metadata": {
    "colab": {
     "base_uri": "https://localhost:8080/"
    },
    "id": "KTgRDTjazbAJ",
    "outputId": "9e4e0a6b-f885-45bb-d3b2-30d87a53519d"
   },
   "outputs": [
    {
     "name": "stdout",
     "output_type": "stream",
     "text": [
      "Epoch 1/10\n",
      "469/469 [==============================] - 13s 25ms/step - loss: 0.2507 - accuracy: 0.9243 - val_loss: 0.1230 - val_accuracy: 0.9608\n",
      "Epoch 2/10\n",
      "469/469 [==============================] - 12s 26ms/step - loss: 0.1020 - accuracy: 0.9683 - val_loss: 0.0787 - val_accuracy: 0.9756\n",
      "Epoch 3/10\n",
      "469/469 [==============================] - 12s 25ms/step - loss: 0.0731 - accuracy: 0.9770 - val_loss: 0.0827 - val_accuracy: 0.9727\n",
      "Epoch 4/10\n",
      "469/469 [==============================] - 12s 25ms/step - loss: 0.0555 - accuracy: 0.9824 - val_loss: 0.0691 - val_accuracy: 0.9775\n",
      "Epoch 5/10\n",
      "469/469 [==============================] - 12s 25ms/step - loss: 0.0457 - accuracy: 0.9850 - val_loss: 0.0744 - val_accuracy: 0.9779\n",
      "Epoch 6/10\n",
      "469/469 [==============================] - 12s 25ms/step - loss: 0.0396 - accuracy: 0.9870 - val_loss: 0.0710 - val_accuracy: 0.9803\n",
      "Epoch 7/10\n",
      "469/469 [==============================] - 12s 25ms/step - loss: 0.0342 - accuracy: 0.9893 - val_loss: 0.0793 - val_accuracy: 0.9758\n",
      "Epoch 8/10\n",
      "469/469 [==============================] - 11s 24ms/step - loss: 0.0294 - accuracy: 0.9901 - val_loss: 0.0654 - val_accuracy: 0.9823\n",
      "Epoch 9/10\n",
      "469/469 [==============================] - 11s 24ms/step - loss: 0.0276 - accuracy: 0.9908 - val_loss: 0.0717 - val_accuracy: 0.9804\n",
      "Epoch 10/10\n",
      "469/469 [==============================] - 11s 24ms/step - loss: 0.0261 - accuracy: 0.9912 - val_loss: 0.0677 - val_accuracy: 0.9832\n"
     ]
    }
   ],
   "source": [
    "def train_model(model, X_train, y_train, X_test, y_test, epochs=10, batch_size=128):\n",
    "    history = model.fit(X_train, y_train, validation_data=(X_test, y_test), epochs=epochs, batch_size=batch_size)\n",
    "    return history\n",
    "\n",
    "# Train the model\n",
    "history = train_model(model, X_train, y_train, X_test, y_test, epochs=10, batch_size=128)\n"
   ]
  },
  {
   "cell_type": "markdown",
   "metadata": {
    "id": "EihAAKnm0pqV"
   },
   "source": [
    "**Evaluate the model**"
   ]
  },
  {
   "cell_type": "code",
   "execution_count": 4,
   "metadata": {
    "colab": {
     "base_uri": "https://localhost:8080/"
    },
    "id": "oSWH6liIzXzR",
    "outputId": "7ee51322-5a70-4869-fbc0-8d8d02a0557c"
   },
   "outputs": [
    {
     "name": "stdout",
     "output_type": "stream",
     "text": [
      "313/313 [==============================] - 2s 6ms/step - loss: 0.0677 - accuracy: 0.9832\n",
      "Accuracy: 0.9832000136375427\n"
     ]
    }
   ],
   "source": [
    "def evaluate_and_print_accuracy(model, X_test, y_test):\n",
    "    accuracy = model.evaluate(X_test, y_test)[1]\n",
    "    return accuracy\n",
    "\n",
    "# Evaluate and print the accuracy\n",
    "accuracy = evaluate_and_print_accuracy(model, X_test, y_test)\n",
    "print(\"Accuracy:\", accuracy)\n"
   ]
  },
  {
   "cell_type": "markdown",
   "metadata": {
    "id": "p91kMamR0qVd"
   },
   "source": [
    "**Plot the training history**"
   ]
  },
  {
   "cell_type": "code",
   "execution_count": 5,
   "metadata": {
    "colab": {
     "base_uri": "https://localhost:8080/",
     "height": 472
    },
    "id": "UiBPnyi60Mcw",
    "outputId": "e3d16f11-e7d4-46d9-89ef-6a6f6741a773"
   },
   "outputs": [
    {
     "data": {
      "image/png": "[encoded data removed]",
      "text/plain": [
       "<Figure size 640x480 with 1 Axes>"
      ]
     },
     "metadata": {},
     "output_type": "display_data"
    }
   ],
   "source": [
    "import matplotlib.pyplot as plt\n",
    "\n",
    "def plot_accuracy(history):\n",
    "    plt.plot(history.history['accuracy'])\n",
    "    plt.plot(history.history['val_accuracy'])\n",
    "    plt.title('Model Accuracy')\n",
    "    plt.ylabel('Accuracy')\n",
    "    plt.xlabel('Epoch')\n",
    "    plt.legend(['Train', 'Test'], loc='upper left')\n",
    "    plt.show()\n",
    "\n",
    "# Plot the training and validation accuracy\n",
    "plot_accuracy(history)\n"
   ]
  },
  {
   "cell_type": "markdown",
   "metadata": {
    "id": "mdxeWMq80rS2"
   },
   "source": [
    "**Make predictions**"
   ]
  },
  {
   "cell_type": "code",
   "execution_count": 6,
   "metadata": {
    "colab": {
     "base_uri": "https://localhost:8080/"
    },
    "id": "RBzlgwcq0iZz",
    "outputId": "705dc880-cb9b-45c5-9060-b4f030037719"
   },
   "outputs": [
    {
     "name": "stdout",
     "output_type": "stream",
     "text": [
      "1/1 [==============================] - 0s 205ms/step\n",
      "Predicted digit: 7\n"
     ]
    }
   ],
   "source": [
    "def predict_single_image(model, image):\n",
    "    # Expand the dimensions of the image to match the model's input shape\n",
    "    image = np.expand_dims(image, axis=0)\n",
    "    \n",
    "    # Use the model to make predictions\n",
    "    prediction = model.predict(image)\n",
    "    \n",
    "    # Get the predicted class\n",
    "    predicted_class = np.argmax(prediction)\n",
    "    \n",
    "    return predicted_class\n",
    "\n",
    "# Predict on a single image\n",
    "digit = X_test[0]\n",
    "predicted_digit = predict_single_image(model, digit)\n",
    "print(\"Predicted digit:\", predicted_digit)\n"
   ]
  }
 ],
 "metadata": {
  "colab": {
   "provenance": []
  },
  "kernelspec": {
   "display_name": "Python 3 (ipykernel)",
   "language": "python",
   "name": "python3"
  },
  "language_info": {
   "codemirror_mode": {
    "name": "ipython",
    "version": 3
   },
   "file_extension": ".py",
   "mimetype": "text/x-python",
   "name": "python",
   "nbconvert_exporter": "python",
   "pygments_lexer": "ipython3",
   "version": "3.9.13"
  }
 },
 "nbformat": 4,
 "nbformat_minor": 1
}
